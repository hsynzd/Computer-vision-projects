{
  "cells": [
    {
      "cell_type": "markdown",
      "metadata": {
        "id": "qEfoYG057QSt"
      },
      "source": [
        "AI"
      ]
    },
    {
      "cell_type": "code",
      "execution_count": 1,
      "metadata": {
        "colab": {
          "base_uri": "https://localhost:8080/"
        },
        "id": "_h1KYCvV-vCT",
        "outputId": "d5b06cca-1ebd-491f-f4c6-78221faafa25"
      },
      "outputs": [
        {
          "output_type": "stream",
          "name": "stdout",
          "text": [
            "Mounted at /content/gdrive\n"
          ]
        }
      ],
      "source": [
        "# Load the Drive helper and mount\n",
        "from google.colab import drive\n",
        "\n",
        "# This will prompt for authorization.\n",
        "drive.mount('/content/gdrive')"
      ]
    },
    {
      "cell_type": "code",
      "execution_count": 2,
      "metadata": {
        "colab": {
          "base_uri": "https://localhost:8080/"
        },
        "id": "XwY8wqYt_lIR",
        "outputId": "972ec99a-bc14-4d80-b85a-1fb7d1597b77"
      },
      "outputs": [
        {
          "output_type": "stream",
          "name": "stdout",
          "text": [
            "/content/gdrive/MyDrive\n"
          ]
        }
      ],
      "source": [
        "cd '/content/gdrive/MyDrive'"
      ]
    },
    {
      "cell_type": "code",
      "source": [
        "# save the final model to file\n",
        "from tensorflow.keras.datasets import mnist\n",
        "from tensorflow.keras.utils import to_categorical\n",
        "from tensorflow.keras.models import Sequential, Model\n",
        "from tensorflow.keras.layers import Conv2D, Input\n",
        "from tensorflow.keras.layers import MaxPooling2D\n",
        "from tensorflow.keras.layers import Dense, Dropout\n",
        "from tensorflow.keras.layers import Flatten\n",
        "from tensorflow.keras.optimizers import SGD, RMSprop, Adam"
      ],
      "metadata": {
        "id": "H0FwrDQV97aq"
      },
      "execution_count": 3,
      "outputs": []
    },
    {
      "cell_type": "code",
      "source": [
        "# load train and test dataset\n",
        "def load_dataset():\n",
        "\t# load dataset\n",
        "\t(trainX, trainY), (testX, testY) = mnist.load_data()\n",
        "\t# reshape dataset to have a single channel\n",
        "\ttrainX = trainX.reshape((trainX.shape[0], 28, 28, 1))\n",
        "\ttestX = testX.reshape((testX.shape[0], 28, 28, 1))\n",
        "\t# one hot encode target values\n",
        "\ttrainY = to_categorical(trainY)\n",
        "\ttestY = to_categorical(testY)\n",
        "\treturn trainX, trainY, testX, testY\n",
        "\n",
        "# scale pixels\n",
        "def prep_pixels(train, test):\n",
        "\t# convert from integers to floats\n",
        "\ttrain_norm = train.astype('float32')\n",
        "\ttest_norm = test.astype('float32')\n",
        "\t# normalize to range 0-1\n",
        "\ttrain_norm = train_norm / 255.0\n",
        "\ttest_norm = test_norm / 255.0\n",
        "\t# return normalized images\n",
        "\treturn train_norm, test_norm\n",
        "\n",
        "# define cnn model\n",
        "def define_model():\n",
        "\tmodel = Sequential()\n",
        "\tmodel.add(Conv2D(32, (3, 3), activation='relu', kernel_initializer='he_uniform', input_shape=(28, 28, 1)))\n",
        "\tmodel.add(MaxPooling2D((2, 2)))\n",
        "\tmodel.add(Conv2D(64, (3, 3), activation='relu', kernel_initializer='he_uniform'))\n",
        "\tmodel.add(Conv2D(64, (3, 3), activation='relu', kernel_initializer='he_uniform'))\n",
        "\tmodel.add(MaxPooling2D((2, 2)))\n",
        "\tmodel.add(Flatten())\n",
        "\tmodel.add(Dense(100, activation='relu', kernel_initializer='he_uniform'))\n",
        "\tmodel.add(Dense(10, activation='softmax'))\n",
        "\t# compile model\n",
        "\topt = SGD(learning_rate=0.1, momentum=0)\n",
        "\tmodel.compile(optimizer=opt, loss='categorical_crossentropy', metrics=['accuracy'])\n",
        "\treturn model\n",
        "\n",
        "# run the test harness for evaluating a model\n",
        "def run_test_harness():\n",
        "\t# load dataset\n",
        "\ttrainX, trainY, testX, testY = load_dataset()\n",
        "\t# prepare pixel data\n",
        "\ttrainX, testX = prep_pixels(trainX, testX)\n",
        "\t# define model\n",
        "\tmodel = define_model()\n",
        "\t# fit model\n",
        "\tmodel.fit(trainX, trainY, epochs=10, batch_size=32, verbose=0)\n",
        " \t# save model\n",
        "\tmodel.save('/content/gdrive/MyDrive/mnist/myMnistModel', save_format=\"h5\")\n",
        "\t# model.save('final_model.h5')\n",
        "\n",
        "\n",
        "# entry point, run the test harness\n",
        "run_test_harness()"
      ],
      "metadata": {
        "colab": {
          "base_uri": "https://localhost:8080/"
        },
        "id": "1lydZp8i_Mpa",
        "outputId": "a2720150-396c-42f8-f1d9-784691220bf6"
      },
      "execution_count": 8,
      "outputs": [
        {
          "output_type": "stream",
          "name": "stderr",
          "text": [
            "/usr/local/lib/python3.10/dist-packages/keras/src/engine/training.py:3103: UserWarning: You are saving your model as an HDF5 file via `model.save()`. This file format is considered legacy. We recommend using instead the native Keras format, e.g. `model.save('my_model.keras')`.\n",
            "  saving_api.save_model(\n"
          ]
        }
      ]
    },
    {
      "cell_type": "code",
      "execution_count": 9,
      "metadata": {
        "colab": {
          "base_uri": "https://localhost:8080/"
        },
        "id": "WxA_THSwAUoa",
        "outputId": "c0f13fa0-2d80-4dd1-fff5-3378f2214897"
      },
      "outputs": [
        {
          "output_type": "stream",
          "name": "stdout",
          "text": [
            "1/1 [==============================] - 0s 229ms/step\n",
            "Image: /content/gdrive/MyDrive/mnist/mnist paint/0.png\n",
            "Predicted Digit: 0\n",
            "Confidence: 86.3539 %\n",
            "\n",
            "1/1 [==============================] - 0s 27ms/step\n",
            "Image: /content/gdrive/MyDrive/mnist/mnist paint/1.png\n",
            "Predicted Digit: 1\n",
            "Confidence: 98.0276 %\n",
            "\n",
            "1/1 [==============================] - 0s 28ms/step\n",
            "Image: /content/gdrive/MyDrive/mnist/mnist paint/2.png\n",
            "Predicted Digit: 2\n",
            "Confidence: 99.8516 %\n",
            "\n",
            "1/1 [==============================] - 0s 29ms/step\n",
            "Image: /content/gdrive/MyDrive/mnist/mnist paint/3.png\n",
            "Predicted Digit: 3\n",
            "Confidence: 100.0 %\n",
            "\n",
            "1/1 [==============================] - 0s 24ms/step\n",
            "Image: /content/gdrive/MyDrive/mnist/mnist paint/4.png\n",
            "Predicted Digit: 4\n",
            "Confidence: 99.9999 %\n",
            "\n",
            "1/1 [==============================] - 0s 23ms/step\n",
            "Image: /content/gdrive/MyDrive/mnist/mnist paint/5.png\n",
            "Predicted Digit: 5\n",
            "Confidence: 100.0 %\n",
            "\n",
            "1/1 [==============================] - 0s 24ms/step\n",
            "Image: /content/gdrive/MyDrive/mnist/mnist paint/6.png\n",
            "Predicted Digit: 6\n",
            "Confidence: 99.9956 %\n",
            "\n",
            "1/1 [==============================] - 0s 28ms/step\n",
            "Image: /content/gdrive/MyDrive/mnist/mnist paint/7.png\n",
            "Predicted Digit: 7\n",
            "Confidence: 99.93 %\n",
            "\n",
            "1/1 [==============================] - 0s 28ms/step\n",
            "Image: /content/gdrive/MyDrive/mnist/mnist paint/8.png\n",
            "Predicted Digit: 8\n",
            "Confidence: 99.9997 %\n",
            "\n",
            "1/1 [==============================] - 0s 22ms/step\n",
            "Image: /content/gdrive/MyDrive/mnist/mnist paint/9.png\n",
            "Predicted Digit: 9\n",
            "Confidence: 86.975 %\n",
            "\n"
          ]
        }
      ],
      "source": [
        "# make a prediction for a new image.\n",
        "import numpy as np\n",
        "from numpy import argmax\n",
        "from tensorflow.keras.utils import load_img\n",
        "#from keras.preprocessing.image import load_img\n",
        "from tensorflow.keras.utils import img_to_array\n",
        "from keras.models import load_model\n",
        "\n",
        "# load and prepare the image\n",
        "def load_image(filename):\n",
        "\t# load the image\n",
        "\timg = load_img(filename, grayscale=True, target_size=(28, 28))\n",
        "\t# convert to array\n",
        "\timg = img_to_array(img)\n",
        "\t# reshape into a single sample with 1 channel\n",
        "\timg = img.reshape(1, 28, 28, 1)\n",
        "\t# prepare pixel data\n",
        "\timg = img.astype('float32')\n",
        "\timg = img / 255.0\n",
        "\treturn img\n",
        "\n",
        "\n",
        "def run_example(image_paths):\n",
        "    # load model\n",
        "    model = load_model('/content/gdrive/MyDrive/mnist/myMnistModel')\n",
        "\n",
        "    for path in image_paths:\n",
        "        # load the image\n",
        "        img = load_image(path)\n",
        "\n",
        "        # predict the class probabilities\n",
        "        predict_value = model.predict(img)\n",
        "        digit = argmax(predict_value)\n",
        "\n",
        "        # Get the probability of the predicted class\n",
        "        probability = predict_value[0][digit]\n",
        "\n",
        "        print(\"Image:\", path)\n",
        "        print(\"Predicted Digit:\", digit)\n",
        "        print(\"Confidence:\", round(probability * 100, 4), \"%\")\n",
        "        print()\n",
        "\n",
        "# List of paths to the images\n",
        "image_paths = [\n",
        "    '/content/gdrive/MyDrive/mnist/mnist paint/0.png',\n",
        "    '/content/gdrive/MyDrive/mnist/mnist paint/1.png',\n",
        "    '/content/gdrive/MyDrive/mnist/mnist paint/2.png',\n",
        "    '/content/gdrive/MyDrive/mnist/mnist paint/3.png',\n",
        "    '/content/gdrive/MyDrive/mnist/mnist paint/4.png',\n",
        "    '/content/gdrive/MyDrive/mnist/mnist paint/5.png',\n",
        "    '/content/gdrive/MyDrive/mnist/mnist paint/6.png',\n",
        "    '/content/gdrive/MyDrive/mnist/mnist paint/7.png',\n",
        "    '/content/gdrive/MyDrive/mnist/mnist paint/8.png',\n",
        "    '/content/gdrive/MyDrive/mnist/mnist paint/9.png',\n",
        "    # Add paths for other images here\n",
        "]\n",
        "\n",
        "# entry point, run the example\n",
        "run_example(image_paths)\n"
      ]
    }
  ],
  "metadata": {
    "accelerator": "GPU",
    "colab": {
      "gpuType": "T4",
      "provenance": []
    },
    "kernelspec": {
      "display_name": "Python 3",
      "name": "python3"
    },
    "language_info": {
      "name": "python"
    }
  },
  "nbformat": 4,
  "nbformat_minor": 0
}
